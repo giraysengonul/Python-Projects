{
 "cells": [
  {
   "cell_type": "markdown",
   "id": "f3dc6b29-d3dc-4df8-9009-3436a79cd0b5",
   "metadata": {},
   "source": [
    "# Automated Web Scraper(Bitcoin)"
   ]
  },
  {
   "cell_type": "markdown",
   "id": "6b1ebf63-6f05-4329-9c27-faf1d026978e",
   "metadata": {},
   "source": [
    "#### -------------------- ####\n",
    "####   Crypto Scraper     ####\n",
    "#### -------------------- ####\n",
    "#### This script fetches Bitcoin prices from CoinMarketCap and saves them to a CSV file.\n",
    "#### Libraries Used:\n",
    "##### - requests: To fetch data from the web page\n",
    "##### - BeautifulSoup: To parse the HTML content\n",
    "##### - pandas: To store and manipulate data\n",
    "##### - datetime: To add timestamp information\n",
    "##### - os: To handle file operations"
   ]
  },
  {
   "cell_type": "code",
   "execution_count": 1,
   "id": "0e77cc82-cac1-4d28-bf44-15beb49f66a0",
   "metadata": {},
   "outputs": [],
   "source": [
    "from bs4 import BeautifulSoup \n",
    "import requests"
   ]
  },
  {
   "cell_type": "code",
   "execution_count": 2,
   "id": "67ed8755-e0c5-4edb-82d4-df98bae6d623",
   "metadata": {},
   "outputs": [
    {
     "data": {
      "text/plain": [
       "<Response [200]>"
      ]
     },
     "execution_count": 2,
     "metadata": {},
     "output_type": "execute_result"
    }
   ],
   "source": [
    "url = 'https://coinmarketcap.com/currencies/bitcoin/'\n",
    "request_data = requests.get(url)\n",
    "request_data"
   ]
  },
  {
   "cell_type": "code",
   "execution_count": 3,
   "id": "218ac44e-0c71-46f8-9bc9-d34d17b4e77f",
   "metadata": {},
   "outputs": [],
   "source": [
    "soup = BeautifulSoup(request_data.text,'html')\n"
   ]
  },
  {
   "cell_type": "code",
   "execution_count": 4,
   "id": "f54b8e0c-f4d4-478d-a0c4-20ba1691edc3",
   "metadata": {},
   "outputs": [
    {
     "data": {
      "text/plain": [
       "'Bitcoin'"
      ]
     },
     "execution_count": 4,
     "metadata": {},
     "output_type": "execute_result"
    }
   ],
   "source": [
    "soup.find('span',{'class':'sc-65e7f566-0 lsTl','data-role':'coin-name'}).contents[0]"
   ]
  },
  {
   "cell_type": "code",
   "execution_count": 5,
   "id": "e73a811a-160c-4b27-aab7-25e0530023d9",
   "metadata": {},
   "outputs": [
    {
     "data": {
      "text/plain": [
       "'Bitcoin'"
      ]
     },
     "execution_count": 5,
     "metadata": {},
     "output_type": "execute_result"
    }
   ],
   "source": [
    "crypto_name = soup.find('span',{'class':'sc-65e7f566-0 lsTl','data-role':'coin-name'}).contents[0].text\n",
    "crypto_name"
   ]
  },
  {
   "cell_type": "code",
   "execution_count": 6,
   "id": "4083d778-998b-44dc-a338-59cb77f75a11",
   "metadata": {},
   "outputs": [],
   "source": [
    "crypto_price = soup.find('span',{'class':'sc-65e7f566-0 esyGGG base-text'}).text"
   ]
  },
  {
   "cell_type": "code",
   "execution_count": 7,
   "id": "51f041e4-89f3-4a50-a5be-efcb539a20c5",
   "metadata": {},
   "outputs": [
    {
     "data": {
      "text/plain": [
       "'107,666.99'"
      ]
     },
     "execution_count": 7,
     "metadata": {},
     "output_type": "execute_result"
    }
   ],
   "source": [
    "crypto_price = crypto_price.replace('$','')\n",
    "crypto_price"
   ]
  },
  {
   "cell_type": "code",
   "execution_count": 8,
   "id": "d9f3d01f-e4e2-47cf-be6b-b46a1a321a26",
   "metadata": {},
   "outputs": [],
   "source": [
    "import pandas as pd"
   ]
  },
  {
   "cell_type": "code",
   "execution_count": 9,
   "id": "84886ae5-2bfe-40a4-a622-f43aa364a1db",
   "metadata": {},
   "outputs": [],
   "source": [
    "from datetime import datetime"
   ]
  },
  {
   "cell_type": "code",
   "execution_count": 10,
   "id": "ec5df035-c5ae-44f8-8ed8-b2165103ef66",
   "metadata": {},
   "outputs": [
    {
     "data": {
      "text/html": [
       "<div>\n",
       "<style scoped>\n",
       "    .dataframe tbody tr th:only-of-type {\n",
       "        vertical-align: middle;\n",
       "    }\n",
       "\n",
       "    .dataframe tbody tr th {\n",
       "        vertical-align: top;\n",
       "    }\n",
       "\n",
       "    .dataframe thead th {\n",
       "        text-align: right;\n",
       "    }\n",
       "</style>\n",
       "<table border=\"1\" class=\"dataframe\">\n",
       "  <thead>\n",
       "    <tr style=\"text-align: right;\">\n",
       "      <th></th>\n",
       "      <th>crypto Name</th>\n",
       "      <th>Price</th>\n",
       "      <th>TimeStamp</th>\n",
       "    </tr>\n",
       "  </thead>\n",
       "  <tbody>\n",
       "    <tr>\n",
       "      <th>0</th>\n",
       "      <td>Bitcoin</td>\n",
       "      <td>107,666.99</td>\n",
       "      <td>2025-06-12 19:46:52.333720</td>\n",
       "    </tr>\n",
       "  </tbody>\n",
       "</table>\n",
       "</div>"
      ],
      "text/plain": [
       "  crypto Name       Price                  TimeStamp\n",
       "0     Bitcoin  107,666.99 2025-06-12 19:46:52.333720"
      ]
     },
     "execution_count": 10,
     "metadata": {},
     "output_type": "execute_result"
    }
   ],
   "source": [
    "date_time = datetime.now()\n",
    "dict = {\n",
    "    'crypto Name': crypto_name,\n",
    "    'Price': crypto_price,\n",
    "    'TimeStamp': date_time\n",
    "}\n",
    "df = pd.DataFrame([dict])\n",
    "df"
   ]
  },
  {
   "cell_type": "code",
   "execution_count": 11,
   "id": "06cb0191-2427-43b7-aa97-74c9b86bacb0",
   "metadata": {},
   "outputs": [],
   "source": [
    "import os"
   ]
  },
  {
   "cell_type": "code",
   "execution_count": 12,
   "id": "3872dd90-b0f6-4b93-85b3-c989b4388410",
   "metadata": {},
   "outputs": [],
   "source": [
    "if os.path.exists(r'your file path\\Crpto_Automated_Pull.csv'):\n",
    "    df.to_csv(r'your file path\\Crpto_Automated_Pull.csv',mode='a',header=False,index=False)\n",
    "else: \n",
    "    df.to_csv(r'your file path\\Crpto_Automated_Pull.csv')"
   ]
  },
  {
   "cell_type": "markdown",
   "id": "5facec22-3f8c-478f-9738-e86ee3584427",
   "metadata": {},
   "source": [
    "# Let's put it all together"
   ]
  },
  {
   "cell_type": "code",
   "execution_count": 13,
   "id": "35b7c465-8051-45eb-a284-94059d9e3b3c",
   "metadata": {},
   "outputs": [],
   "source": [
    "from bs4 import BeautifulSoup \n",
    "import requests\n",
    "import pandas as pd\n",
    "from datetime import datetime\n",
    "import os\n",
    "import time"
   ]
  },
  {
   "cell_type": "code",
   "execution_count": 14,
   "id": "82759172-e48a-4a5c-85bd-9d6cb505a68a",
   "metadata": {},
   "outputs": [],
   "source": [
    "def automated_crypto_pull():\n",
    "    url = 'https://coinmarketcap.com/currencies/bitcoin/'\n",
    "    headers = {'User-Agent': 'Mozilla/5.0'}\n",
    "    request_data = requests.get(url,headers=headers)\n",
    "    soup = BeautifulSoup(request_data.text,'html')\n",
    "    \n",
    "    crypto_name = soup.find('span',{'class':'sc-65e7f566-0 lsTl','data-role':'coin-name'}).contents[0].text\n",
    "    crypto_price = soup.find('span',{'class':'sc-65e7f566-0 esyGGG base-text'}).text\n",
    "    crypto_price = crypto_price.replace('$','')\n",
    "    \n",
    "    date_time = datetime.now()\n",
    "    \n",
    "    dict = {\n",
    "        'crypto Name': crypto_name,\n",
    "        'Price': crypto_price,\n",
    "        'TimeStamp': date_time\n",
    "    }\n",
    "    df = pd.DataFrame([dict])\n",
    "    \n",
    "    if os.path.exists(r'your file path\\Crpto_Automated_Pull.csv'):\n",
    "        df.to_csv(r'your file path\\Crpto_Automated_Pull.csv',mode='a',header=False,index=False)\n",
    "    else: \n",
    "        df.to_csv(r'your file path\\Crpto_Automated_Pull.csv',index=False)\n",
    "    print(df)\n"
   ]
  },
  {
   "cell_type": "code",
   "execution_count": 15,
   "id": "f0aabbe1-ed8c-4c1b-97cf-ad7bad3d70f1",
   "metadata": {},
   "outputs": [
    {
     "name": "stdout",
     "output_type": "stream",
     "text": [
      "  crypto Name       Price                  TimeStamp\n",
      "0     Bitcoin  107,666.99 2025-06-12 19:47:58.670883\n"
     ]
    },
    {
     "ename": "KeyboardInterrupt",
     "evalue": "",
     "output_type": "error",
     "traceback": [
      "\u001b[1;31m---------------------------------------------------------------------------\u001b[0m",
      "\u001b[1;31mKeyboardInterrupt\u001b[0m                         Traceback (most recent call last)",
      "Cell \u001b[1;32mIn[15], line 3\u001b[0m\n\u001b[0;32m      1\u001b[0m \u001b[38;5;28;01mwhile\u001b[39;00m \u001b[38;5;28;01mTrue\u001b[39;00m:\n\u001b[0;32m      2\u001b[0m     automated_crypto_pull()\n\u001b[1;32m----> 3\u001b[0m     time\u001b[38;5;241m.\u001b[39msleep(\u001b[38;5;241m25\u001b[39m)\n",
      "\u001b[1;31mKeyboardInterrupt\u001b[0m: "
     ]
    }
   ],
   "source": [
    "while True:\n",
    "    automated_crypto_pull()\n",
    "    time.sleep(25)"
   ]
  },
  {
   "cell_type": "code",
   "execution_count": null,
   "id": "4cee2243-2023-4d5b-b52d-5dca7ddb4744",
   "metadata": {},
   "outputs": [],
   "source": []
  }
 ],
 "metadata": {
  "kernelspec": {
   "display_name": "Python [conda env:base] *",
   "language": "python",
   "name": "conda-base-py"
  },
  "language_info": {
   "codemirror_mode": {
    "name": "ipython",
    "version": 3
   },
   "file_extension": ".py",
   "mimetype": "text/x-python",
   "name": "python",
   "nbconvert_exporter": "python",
   "pygments_lexer": "ipython3",
   "version": "3.12.7"
  }
 },
 "nbformat": 4,
 "nbformat_minor": 5
}
